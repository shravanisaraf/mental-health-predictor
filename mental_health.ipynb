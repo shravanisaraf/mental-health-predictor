{
  "nbformat": 4,
  "nbformat_minor": 0,
  "metadata": {
    "colab": {
      "provenance": []
    },
    "kernelspec": {
      "name": "python3",
      "display_name": "Python 3"
    },
    "language_info": {
      "name": "python"
    }
  },
  "cells": [
    {
      "cell_type": "code",
      "execution_count": 1,
      "metadata": {
        "colab": {
          "base_uri": "https://localhost:8080/"
        },
        "id": "eZ_oAS1ebQqC",
        "outputId": "104f7ba3-b3ea-466b-b834-e99c5a66c98d"
      },
      "outputs": [
        {
          "output_type": "stream",
          "name": "stdout",
          "text": [
            "--- First 5 Rows ---\n",
            "             Timestamp  Age  Gender         Country state self_employed  \\\n",
            "0  2014-08-27 11:29:31   37  Female   United States    IL           NaN   \n",
            "1  2014-08-27 11:29:37   44       M   United States    IN           NaN   \n",
            "2  2014-08-27 11:29:44   32    Male          Canada   NaN           NaN   \n",
            "3  2014-08-27 11:29:46   31    Male  United Kingdom   NaN           NaN   \n",
            "4  2014-08-27 11:30:22   31    Male   United States    TX           NaN   \n",
            "\n",
            "  family_history treatment work_interfere    no_employees  ...  \\\n",
            "0             No       Yes          Often            6-25  ...   \n",
            "1             No        No         Rarely  More than 1000  ...   \n",
            "2             No        No         Rarely            6-25  ...   \n",
            "3            Yes       Yes          Often          26-100  ...   \n",
            "4             No        No          Never         100-500  ...   \n",
            "\n",
            "                leave mental_health_consequence phys_health_consequence  \\\n",
            "0       Somewhat easy                        No                      No   \n",
            "1          Don't know                     Maybe                      No   \n",
            "2  Somewhat difficult                        No                      No   \n",
            "3  Somewhat difficult                       Yes                     Yes   \n",
            "4          Don't know                        No                      No   \n",
            "\n",
            "      coworkers supervisor mental_health_interview phys_health_interview  \\\n",
            "0  Some of them        Yes                      No                 Maybe   \n",
            "1            No         No                      No                    No   \n",
            "2           Yes        Yes                     Yes                   Yes   \n",
            "3  Some of them         No                   Maybe                 Maybe   \n",
            "4  Some of them        Yes                     Yes                   Yes   \n",
            "\n",
            "  mental_vs_physical obs_consequence comments  \n",
            "0                Yes              No      NaN  \n",
            "1         Don't know              No      NaN  \n",
            "2                 No              No      NaN  \n",
            "3                 No             Yes      NaN  \n",
            "4         Don't know              No      NaN  \n",
            "\n",
            "[5 rows x 27 columns]\n",
            "\n",
            "--- Dataset Info ---\n",
            "<class 'pandas.core.frame.DataFrame'>\n",
            "RangeIndex: 1259 entries, 0 to 1258\n",
            "Data columns (total 27 columns):\n",
            " #   Column                     Non-Null Count  Dtype \n",
            "---  ------                     --------------  ----- \n",
            " 0   Timestamp                  1259 non-null   object\n",
            " 1   Age                        1259 non-null   int64 \n",
            " 2   Gender                     1259 non-null   object\n",
            " 3   Country                    1259 non-null   object\n",
            " 4   state                      744 non-null    object\n",
            " 5   self_employed              1241 non-null   object\n",
            " 6   family_history             1259 non-null   object\n",
            " 7   treatment                  1259 non-null   object\n",
            " 8   work_interfere             995 non-null    object\n",
            " 9   no_employees               1259 non-null   object\n",
            " 10  remote_work                1259 non-null   object\n",
            " 11  tech_company               1259 non-null   object\n",
            " 12  benefits                   1259 non-null   object\n",
            " 13  care_options               1259 non-null   object\n",
            " 14  wellness_program           1259 non-null   object\n",
            " 15  seek_help                  1259 non-null   object\n",
            " 16  anonymity                  1259 non-null   object\n",
            " 17  leave                      1259 non-null   object\n",
            " 18  mental_health_consequence  1259 non-null   object\n",
            " 19  phys_health_consequence    1259 non-null   object\n",
            " 20  coworkers                  1259 non-null   object\n",
            " 21  supervisor                 1259 non-null   object\n",
            " 22  mental_health_interview    1259 non-null   object\n",
            " 23  phys_health_interview      1259 non-null   object\n",
            " 24  mental_vs_physical         1259 non-null   object\n",
            " 25  obs_consequence            1259 non-null   object\n",
            " 26  comments                   164 non-null    object\n",
            "dtypes: int64(1), object(26)\n",
            "memory usage: 265.7+ KB\n"
          ]
        }
      ],
      "source": [
        "import pandas as pd\n",
        "\n",
        "# Load the dataset from the uploaded file\n",
        "df = pd.read_csv('/content/survey.csv')\n",
        "\n",
        "# --- Initial Exploration ---\n",
        "\n",
        "# Print the first 5 rows to see what the data looks like\n",
        "print(\"--- First 5 Rows ---\")\n",
        "print(df.head())\n",
        "\n",
        "# Get a summary of all columns, their data types, and non-null counts\n",
        "print(\"\\n--- Dataset Info ---\")\n",
        "df.info()"
      ]
    },
    {
      "cell_type": "code",
      "source": [
        "import pandas as pd\n",
        "\n",
        "# It's good practice to reload the data to ensure we start fresh\n",
        "\n",
        "# --- 1. Drop Irrelevant Columns ---\n",
        "# We're dropping 'Timestamp', 'comments', and 'state'\n",
        "df_cleaned = df.drop(columns=['Timestamp', 'comments', 'state'])\n",
        "print(\"--- Columns after dropping Timestamp, comments, and state ---\")\n",
        "print(df_cleaned.columns)\n",
        "print(f\"\\nOriginal number of columns: {len(df.columns)}\")\n",
        "print(f\"Number of columns after dropping: {len(df_cleaned.columns)}\\n\")\n",
        "\n",
        "\n",
        "# --- 2. Inspect Gender and Age columns ---\n",
        "# Let's see all the unique values in the 'Gender' column to understand the mess\n",
        "print(\"--- Unique values in 'Gender' column ---\")\n",
        "print(df_cleaned['Gender'].unique())\n",
        "\n",
        "# Let's get a statistical summary of the 'Age' column to spot outliers\n",
        "print(\"\\n--- Statistical summary of 'Age' column ---\")\n",
        "print(df_cleaned['Age'].describe())"
      ],
      "metadata": {
        "colab": {
          "base_uri": "https://localhost:8080/"
        },
        "id": "nmKkTncfbilO",
        "outputId": "c9a5bc40-2ed2-4d8e-ef6e-d183fd17d38e"
      },
      "execution_count": 2,
      "outputs": [
        {
          "output_type": "stream",
          "name": "stdout",
          "text": [
            "--- Columns after dropping Timestamp, comments, and state ---\n",
            "Index(['Age', 'Gender', 'Country', 'self_employed', 'family_history',\n",
            "       'treatment', 'work_interfere', 'no_employees', 'remote_work',\n",
            "       'tech_company', 'benefits', 'care_options', 'wellness_program',\n",
            "       'seek_help', 'anonymity', 'leave', 'mental_health_consequence',\n",
            "       'phys_health_consequence', 'coworkers', 'supervisor',\n",
            "       'mental_health_interview', 'phys_health_interview',\n",
            "       'mental_vs_physical', 'obs_consequence'],\n",
            "      dtype='object')\n",
            "\n",
            "Original number of columns: 27\n",
            "Number of columns after dropping: 24\n",
            "\n",
            "--- Unique values in 'Gender' column ---\n",
            "['Female' 'M' 'Male' 'male' 'female' 'm' 'Male-ish' 'maile' 'Trans-female'\n",
            " 'Cis Female' 'F' 'something kinda male?' 'Cis Male' 'Woman' 'f' 'Mal'\n",
            " 'Male (CIS)' 'queer/she/they' 'non-binary' 'Femake' 'woman' 'Make' 'Nah'\n",
            " 'All' 'Enby' 'fluid' 'Genderqueer' 'Female ' 'Androgyne' 'Agender'\n",
            " 'cis-female/femme' 'Guy (-ish) ^_^' 'male leaning androgynous' 'Male '\n",
            " 'Man' 'Trans woman' 'msle' 'Neuter' 'Female (trans)' 'queer'\n",
            " 'Female (cis)' 'Mail' 'cis male' 'A little about you' 'Malr' 'p' 'femail'\n",
            " 'Cis Man' 'ostensibly male, unsure what that really means']\n",
            "\n",
            "--- Statistical summary of 'Age' column ---\n",
            "count    1.259000e+03\n",
            "mean     7.942815e+07\n",
            "std      2.818299e+09\n",
            "min     -1.726000e+03\n",
            "25%      2.700000e+01\n",
            "50%      3.100000e+01\n",
            "75%      3.600000e+01\n",
            "max      1.000000e+11\n",
            "Name: Age, dtype: float64\n"
          ]
        }
      ]
    },
    {
      "cell_type": "code",
      "source": [
        "# We'll continue working with the df_cleaned DataFrame from the previous step.\n",
        "# Make sure you have run the code from Step 2 before this.\n",
        "\n",
        "# --- 1. Clean the 'Age' column ---\n",
        "# We will only keep rows where the age is between 18 and 75\n",
        "df_cleaned = df_cleaned[(df_cleaned['Age'] >= 18) & (df_cleaned['Age'] <= 75)]\n",
        "\n",
        "\n",
        "# --- 2. Clean and standardize the 'Gender' column ---\n",
        "# Define a list of male and female identifiers\n",
        "male_str = [\"male\", \"m\", \"male-ish\", \"maile\", \"mal\", \"male (cis)\", \"make\", \"male \", \"man\", \"msle\", \"mail\", \"malr\", \"cis man\", \"cis male\"]\n",
        "female_str = [\"female\", \"f\", \"woman\", \"femake\", \"female \", \"cis-female/femme\", \"female (cis)\", \"femail\"]\n",
        "\n",
        "# Standardize the 'Gender' column based on the lists above\n",
        "df_cleaned['Gender'] = df_cleaned['Gender'].str.lower()\n",
        "df_cleaned['Gender'] = df_cleaned['Gender'].apply(lambda x: 'Male' if x in male_str else ('Female' if x in female_str else 'Other'))\n",
        "\n",
        "\n",
        "# --- Verification ---\n",
        "# Let's see the results of our cleaning.\n",
        "\n",
        "print(\"--- Statistical summary of 'Age' column after cleaning ---\")\n",
        "print(df_cleaned['Age'].describe())\n",
        "\n",
        "print(\"\\n--- Unique values in 'Gender' column after cleaning ---\")\n",
        "print(df_cleaned['Gender'].value_counts())"
      ],
      "metadata": {
        "colab": {
          "base_uri": "https://localhost:8080/"
        },
        "id": "KDXxx9iDb8DR",
        "outputId": "c43aeed8-3361-4274-b2b9-9405ff31547c"
      },
      "execution_count": 3,
      "outputs": [
        {
          "output_type": "stream",
          "name": "stdout",
          "text": [
            "--- Statistical summary of 'Age' column after cleaning ---\n",
            "count    1251.000000\n",
            "mean       32.076739\n",
            "std         7.288272\n",
            "min        18.000000\n",
            "25%        27.000000\n",
            "50%        31.000000\n",
            "75%        36.000000\n",
            "max        72.000000\n",
            "Name: Age, dtype: float64\n",
            "\n",
            "--- Unique values in 'Gender' column after cleaning ---\n",
            "Gender\n",
            "Male      986\n",
            "Female    246\n",
            "Other      19\n",
            "Name: count, dtype: int64\n"
          ]
        },
        {
          "output_type": "stream",
          "name": "stderr",
          "text": [
            "/tmp/ipython-input-3-3155379846.py:15: SettingWithCopyWarning: \n",
            "A value is trying to be set on a copy of a slice from a DataFrame.\n",
            "Try using .loc[row_indexer,col_indexer] = value instead\n",
            "\n",
            "See the caveats in the documentation: https://pandas.pydata.org/pandas-docs/stable/user_guide/indexing.html#returning-a-view-versus-a-copy\n",
            "  df_cleaned['Gender'] = df_cleaned['Gender'].str.lower()\n",
            "/tmp/ipython-input-3-3155379846.py:16: SettingWithCopyWarning: \n",
            "A value is trying to be set on a copy of a slice from a DataFrame.\n",
            "Try using .loc[row_indexer,col_indexer] = value instead\n",
            "\n",
            "See the caveats in the documentation: https://pandas.pydata.org/pandas-docs/stable/user_guide/indexing.html#returning-a-view-versus-a-copy\n",
            "  df_cleaned['Gender'] = df_cleaned['Gender'].apply(lambda x: 'Male' if x in male_str else ('Female' if x in female_str else 'Other'))\n"
          ]
        }
      ]
    },
    {
      "cell_type": "code",
      "source": [
        "# --- 1. Check for remaining missing values ---\n",
        "print(\"--- Remaining missing values in each column ---\")\n",
        "print(df_cleaned.isnull().sum())\n",
        "\n",
        "\n",
        "# --- 2. Inspect the columns that have missing values ---\n",
        "# We want to see the existing categories in these columns to decide how to fill the gaps.\n",
        "\n",
        "print(\"\\n--- Value counts for 'self_employed' ---\")\n",
        "# use dropna=False to see the count of NaN values as well\n",
        "print(df_cleaned['self_employed'].value_counts(dropna=False))\n",
        "\n",
        "print(\"\\n--- Value counts for 'work_interfere' ---\")\n",
        "print(df_cleaned['work_interfere'].value_counts(dropna=False))"
      ],
      "metadata": {
        "colab": {
          "base_uri": "https://localhost:8080/"
        },
        "id": "n0JXEuQFcNEu",
        "outputId": "11e956d5-a606-4906-80e3-25809c1ca22d"
      },
      "execution_count": 4,
      "outputs": [
        {
          "output_type": "stream",
          "name": "stdout",
          "text": [
            "--- Remaining missing values in each column ---\n",
            "Age                            0\n",
            "Gender                         0\n",
            "Country                        0\n",
            "self_employed                 18\n",
            "family_history                 0\n",
            "treatment                      0\n",
            "work_interfere               262\n",
            "no_employees                   0\n",
            "remote_work                    0\n",
            "tech_company                   0\n",
            "benefits                       0\n",
            "care_options                   0\n",
            "wellness_program               0\n",
            "seek_help                      0\n",
            "anonymity                      0\n",
            "leave                          0\n",
            "mental_health_consequence      0\n",
            "phys_health_consequence        0\n",
            "coworkers                      0\n",
            "supervisor                     0\n",
            "mental_health_interview        0\n",
            "phys_health_interview          0\n",
            "mental_vs_physical             0\n",
            "obs_consequence                0\n",
            "dtype: int64\n",
            "\n",
            "--- Value counts for 'self_employed' ---\n",
            "self_employed\n",
            "No     1091\n",
            "Yes     142\n",
            "NaN      18\n",
            "Name: count, dtype: int64\n",
            "\n",
            "--- Value counts for 'work_interfere' ---\n",
            "work_interfere\n",
            "Sometimes    464\n",
            "NaN          262\n",
            "Never        212\n",
            "Rarely       173\n",
            "Often        140\n",
            "Name: count, dtype: int64\n"
          ]
        }
      ]
    },
    {
      "cell_type": "code",
      "source": [
        "# --- Fill missing values using the mode ---\n",
        "\n",
        "# For 'self_employed', we will fill NaN with 'No'\n",
        "self_employed_mode = df_cleaned['self_employed'].mode()[0]\n",
        "df_cleaned['self_employed'].fillna(self_employed_mode, inplace=True)\n",
        "\n",
        "# For 'work_interfere', we will fill NaN with 'Sometimes'\n",
        "work_interfere_mode = df_cleaned['work_interfere'].mode()[0]\n",
        "df_cleaned['work_interfere'].fillna(work_interfere_mode, inplace=True)\n",
        "\n",
        "\n",
        "# --- Verification ---\n",
        "print(\"--- Missing values after filling ---\")\n",
        "print(df_cleaned.isnull().sum())"
      ],
      "metadata": {
        "colab": {
          "base_uri": "https://localhost:8080/"
        },
        "id": "7vYZvC3acWqh",
        "outputId": "3563d2fc-0d4a-476f-bd2c-3eba05eb3e97"
      },
      "execution_count": 5,
      "outputs": [
        {
          "output_type": "stream",
          "name": "stdout",
          "text": [
            "--- Missing values after filling ---\n",
            "Age                          0\n",
            "Gender                       0\n",
            "Country                      0\n",
            "self_employed                0\n",
            "family_history               0\n",
            "treatment                    0\n",
            "work_interfere               0\n",
            "no_employees                 0\n",
            "remote_work                  0\n",
            "tech_company                 0\n",
            "benefits                     0\n",
            "care_options                 0\n",
            "wellness_program             0\n",
            "seek_help                    0\n",
            "anonymity                    0\n",
            "leave                        0\n",
            "mental_health_consequence    0\n",
            "phys_health_consequence      0\n",
            "coworkers                    0\n",
            "supervisor                   0\n",
            "mental_health_interview      0\n",
            "phys_health_interview        0\n",
            "mental_vs_physical           0\n",
            "obs_consequence              0\n",
            "dtype: int64\n"
          ]
        },
        {
          "output_type": "stream",
          "name": "stderr",
          "text": [
            "/tmp/ipython-input-5-3790040193.py:5: FutureWarning: A value is trying to be set on a copy of a DataFrame or Series through chained assignment using an inplace method.\n",
            "The behavior will change in pandas 3.0. This inplace method will never work because the intermediate object on which we are setting values always behaves as a copy.\n",
            "\n",
            "For example, when doing 'df[col].method(value, inplace=True)', try using 'df.method({col: value}, inplace=True)' or df[col] = df[col].method(value) instead, to perform the operation inplace on the original object.\n",
            "\n",
            "\n",
            "  df_cleaned['self_employed'].fillna(self_employed_mode, inplace=True)\n",
            "/tmp/ipython-input-5-3790040193.py:9: FutureWarning: A value is trying to be set on a copy of a DataFrame or Series through chained assignment using an inplace method.\n",
            "The behavior will change in pandas 3.0. This inplace method will never work because the intermediate object on which we are setting values always behaves as a copy.\n",
            "\n",
            "For example, when doing 'df[col].method(value, inplace=True)', try using 'df.method({col: value}, inplace=True)' or df[col] = df[col].method(value) instead, to perform the operation inplace on the original object.\n",
            "\n",
            "\n",
            "  df_cleaned['work_interfere'].fillna(work_interfere_mode, inplace=True)\n"
          ]
        }
      ]
    },
    {
      "cell_type": "code",
      "source": [
        "from sklearn.preprocessing import LabelEncoder\n",
        "\n",
        "# We'll apply Label Encoding to all the object (text) type columns\n",
        "for column in df_cleaned.columns:\n",
        "    if df_cleaned[column].dtype == 'object':\n",
        "        le = LabelEncoder()\n",
        "        df_cleaned[column] = le.fit_transform(df_cleaned[column])\n",
        "\n",
        "# --- Verification ---\n",
        "# Let's see what our data looks like now. All columns should be numbers.\n",
        "print(\"--- First 5 rows of the fully numerical dataset ---\")\n",
        "print(df_cleaned.head())\n",
        "\n",
        "print(\"\\n--- New dataset info ---\")\n",
        "# The 'Dtype' for every column should now be a number (int64 or int32)\n",
        "df_cleaned.info()"
      ],
      "metadata": {
        "colab": {
          "base_uri": "https://localhost:8080/"
        },
        "id": "AOCqd5_6chf8",
        "outputId": "76cf2c91-0e0d-4121-b57b-7a7de7abefc3"
      },
      "execution_count": 6,
      "outputs": [
        {
          "output_type": "stream",
          "name": "stdout",
          "text": [
            "--- First 5 rows of the fully numerical dataset ---\n",
            "   Age  Gender  Country  self_employed  family_history  treatment  \\\n",
            "0   37       0       44              0               0          1   \n",
            "1   44       1       44              0               0          0   \n",
            "2   32       1        6              0               0          0   \n",
            "3   31       1       43              0               1          1   \n",
            "4   31       1       44              0               0          0   \n",
            "\n",
            "   work_interfere  no_employees  remote_work  tech_company  ...  anonymity  \\\n",
            "0               1             4            0             1  ...          2   \n",
            "1               2             5            0             0  ...          0   \n",
            "2               2             4            0             1  ...          0   \n",
            "3               1             2            0             1  ...          1   \n",
            "4               0             1            1             1  ...          0   \n",
            "\n",
            "   leave  mental_health_consequence  phys_health_consequence  coworkers  \\\n",
            "0      2                          1                        1          1   \n",
            "1      0                          0                        1          0   \n",
            "2      1                          1                        1          2   \n",
            "3      1                          2                        2          1   \n",
            "4      0                          1                        1          1   \n",
            "\n",
            "   supervisor  mental_health_interview  phys_health_interview  \\\n",
            "0           2                        1                      0   \n",
            "1           0                        1                      1   \n",
            "2           2                        2                      2   \n",
            "3           0                        0                      0   \n",
            "4           2                        2                      2   \n",
            "\n",
            "   mental_vs_physical  obs_consequence  \n",
            "0                   2                0  \n",
            "1                   0                0  \n",
            "2                   1                0  \n",
            "3                   1                1  \n",
            "4                   0                0  \n",
            "\n",
            "[5 rows x 24 columns]\n",
            "\n",
            "--- New dataset info ---\n",
            "<class 'pandas.core.frame.DataFrame'>\n",
            "Index: 1251 entries, 0 to 1258\n",
            "Data columns (total 24 columns):\n",
            " #   Column                     Non-Null Count  Dtype\n",
            "---  ------                     --------------  -----\n",
            " 0   Age                        1251 non-null   int64\n",
            " 1   Gender                     1251 non-null   int64\n",
            " 2   Country                    1251 non-null   int64\n",
            " 3   self_employed              1251 non-null   int64\n",
            " 4   family_history             1251 non-null   int64\n",
            " 5   treatment                  1251 non-null   int64\n",
            " 6   work_interfere             1251 non-null   int64\n",
            " 7   no_employees               1251 non-null   int64\n",
            " 8   remote_work                1251 non-null   int64\n",
            " 9   tech_company               1251 non-null   int64\n",
            " 10  benefits                   1251 non-null   int64\n",
            " 11  care_options               1251 non-null   int64\n",
            " 12  wellness_program           1251 non-null   int64\n",
            " 13  seek_help                  1251 non-null   int64\n",
            " 14  anonymity                  1251 non-null   int64\n",
            " 15  leave                      1251 non-null   int64\n",
            " 16  mental_health_consequence  1251 non-null   int64\n",
            " 17  phys_health_consequence    1251 non-null   int64\n",
            " 18  coworkers                  1251 non-null   int64\n",
            " 19  supervisor                 1251 non-null   int64\n",
            " 20  mental_health_interview    1251 non-null   int64\n",
            " 21  phys_health_interview      1251 non-null   int64\n",
            " 22  mental_vs_physical         1251 non-null   int64\n",
            " 23  obs_consequence            1251 non-null   int64\n",
            "dtypes: int64(24)\n",
            "memory usage: 244.3 KB\n"
          ]
        }
      ]
    },
    {
      "cell_type": "code",
      "source": [
        "from sklearn.model_selection import train_test_split\n",
        "\n",
        "# --- Define Features (X) and Target (y) ---\n",
        "\n",
        "# X contains all the columns that we will use to make a prediction.\n",
        "# We drop 'treatment' because that is what we are trying to predict.\n",
        "X = df_cleaned.drop(columns=['treatment'])\n",
        "\n",
        "# y is the target variable, the column we want to predict.\n",
        "y = df_cleaned['treatment']\n",
        "\n",
        "\n",
        "# --- Split the data ---\n",
        "# test_size=0.2 means 20% of the data will be used for testing.\n",
        "# random_state=42 ensures that we get the same split every time we run the code,\n",
        "# which makes our results reproducible.\n",
        "X_train, X_test, y_train, y_test = train_test_split(X, y, test_size=0.2, random_state=42)\n",
        "\n",
        "\n",
        "# --- Verification ---\n",
        "print(\"--- Data Split Complete ---\")\n",
        "print(f\"Shape of X_train (features for training): {X_train.shape}\")\n",
        "print(f\"Shape of X_test (features for testing): {X_test.shape}\")\n",
        "print(f\"Shape of y_train (target for training): {y_train.shape}\")\n",
        "print(f\"Shape of y_test (target for testing): {y_test.shape}\")"
      ],
      "metadata": {
        "colab": {
          "base_uri": "https://localhost:8080/"
        },
        "id": "28-6DCoPfvgh",
        "outputId": "364b9955-4701-4e9d-e9ff-faf42dcb77e7"
      },
      "execution_count": 7,
      "outputs": [
        {
          "output_type": "stream",
          "name": "stdout",
          "text": [
            "--- Data Split Complete ---\n",
            "Shape of X_train (features for training): (1000, 23)\n",
            "Shape of X_test (features for testing): (251, 23)\n",
            "Shape of y_train (target for training): (1000,)\n",
            "Shape of y_test (target for testing): (251,)\n"
          ]
        }
      ]
    },
    {
      "cell_type": "code",
      "source": [
        "from sklearn.linear_model import LogisticRegression\n",
        "from sklearn.metrics import accuracy_score\n",
        "\n",
        "# --- 1. Initialize and Train the Model ---\n",
        "\n",
        "# Create an instance of the Logistic Regression model\n",
        "log_reg = LogisticRegression(max_iter=1000) # Increased max_iter for convergence\n",
        "\n",
        "# Train the model using our training data (X_train, y_train)\n",
        "log_reg.fit(X_train, y_train)\n",
        "\n",
        "\n",
        "# --- 2. Make Predictions on the Test Data ---\n",
        "\n",
        "# Use the trained model to make predictions on the unseen test data (X_test)\n",
        "y_pred_lr = log_reg.predict(X_test)\n",
        "\n",
        "\n",
        "# --- Verification ---\n",
        "print(\"--- Logistic Regression Model Trained ---\")\n",
        "print(\"Predictions have been made on the test set.\")\n",
        "print(\"We will evaluate the performance in the next step.\")"
      ],
      "metadata": {
        "colab": {
          "base_uri": "https://localhost:8080/"
        },
        "id": "xrFw0_Isf3bk",
        "outputId": "90e73cfb-5201-4045-af33-c3f8a319ac9b"
      },
      "execution_count": 8,
      "outputs": [
        {
          "output_type": "stream",
          "name": "stdout",
          "text": [
            "--- Logistic Regression Model Trained ---\n",
            "Predictions have been made on the test set.\n",
            "We will evaluate the performance in the next step.\n"
          ]
        }
      ]
    },
    {
      "cell_type": "code",
      "source": [
        "from sklearn.metrics import accuracy_score, confusion_matrix, classification_report\n",
        "import seaborn as sns\n",
        "import matplotlib.pyplot as plt\n",
        "\n",
        "# --- 1. Calculate Accuracy ---\n",
        "accuracy_lr = accuracy_score(y_test, y_pred_lr)\n",
        "print(f\"--- Accuracy of the Logistic Regression Model ---\")\n",
        "print(f\"Accuracy: {accuracy_lr:.2f}\\n\")\n",
        "\n",
        "\n",
        "# --- 2. Display the Confusion Matrix ---\n",
        "cm = confusion_matrix(y_test, y_pred_lr)\n",
        "\n",
        "print(\"--- Confusion Matrix ---\")\n",
        "# We use seaborn to make the confusion matrix look nice\n",
        "sns.heatmap(cm, annot=True, fmt='d', cmap='Blues', xticklabels=['No Treatment', 'Treatment'], yticklabels=['No Treatment', 'Treatment'])\n",
        "plt.ylabel('Actual')\n",
        "plt.xlabel('Predicted')\n",
        "plt.title('Confusion Matrix')\n",
        "plt.show()\n",
        "\n",
        "\n",
        "# --- 3. Display the Classification Report ---\n",
        "print(\"\\n--- Classification Report ---\")\n",
        "print(classification_report(y_test, y_pred_lr, target_names=['No Treatment', 'Treatment']))"
      ],
      "metadata": {
        "colab": {
          "base_uri": "https://localhost:8080/",
          "height": 732
        },
        "id": "JCCBR7-zf9lo",
        "outputId": "4a0fdfb3-5bcd-4f86-cdef-b88a3d4344d3"
      },
      "execution_count": 9,
      "outputs": [
        {
          "output_type": "stream",
          "name": "stdout",
          "text": [
            "--- Accuracy of the Logistic Regression Model ---\n",
            "Accuracy: 0.71\n",
            "\n",
            "--- Confusion Matrix ---\n"
          ]
        },
        {
          "output_type": "display_data",
          "data": {
            "text/plain": [
              "<Figure size 640x480 with 2 Axes>"
            ],
            "image/png": "[encoded data removed]"
          },
          "metadata": {}
        },
        {
          "output_type": "stream",
          "name": "stdout",
          "text": [
            "\n",
            "--- Classification Report ---\n",
            "              precision    recall  f1-score   support\n",
            "\n",
            "No Treatment       0.66      0.72      0.69       113\n",
            "   Treatment       0.75      0.70      0.72       138\n",
            "\n",
            "    accuracy                           0.71       251\n",
            "   macro avg       0.70      0.71      0.70       251\n",
            "weighted avg       0.71      0.71      0.71       251\n",
            "\n"
          ]
        }
      ]
    },
    {
      "cell_type": "code",
      "source": [
        "from sklearn.ensemble import RandomForestClassifier\n",
        "\n",
        "# --- 1. Initialize and Train the Model ---\n",
        "\n",
        "# Create an instance of the Random Forest model\n",
        "# random_state=42 ensures the results are reproducible\n",
        "rf_model = RandomForestClassifier(n_estimators=100, random_state=42)\n",
        "\n",
        "# Train the model using our training data\n",
        "rf_model.fit(X_train, y_train)\n",
        "\n",
        "\n",
        "# --- 2. Make Predictions on the Test Data ---\n",
        "\n",
        "# Use the trained model to make predictions on the test data\n",
        "y_pred_rf = rf_model.predict(X_test)\n",
        "\n",
        "\n",
        "# --- Verification ---\n",
        "print(\"--- Random Forest Model Trained ---\")\n",
        "print(\"Predictions have been made on the test set.\")\n",
        "print(\"We will evaluate the performance in the next step.\")"
      ],
      "metadata": {
        "colab": {
          "base_uri": "https://localhost:8080/"
        },
        "id": "_kBFyut4gDDb",
        "outputId": "3d544d4f-f749-41b9-aae2-39753f8c7cf0"
      },
      "execution_count": 10,
      "outputs": [
        {
          "output_type": "stream",
          "name": "stdout",
          "text": [
            "--- Random Forest Model Trained ---\n",
            "Predictions have been made on the test set.\n",
            "We will evaluate the performance in the next step.\n"
          ]
        }
      ]
    },
    {
      "cell_type": "code",
      "source": [
        "from sklearn.metrics import accuracy_score, confusion_matrix, classification_report\n",
        "import seaborn as sns\n",
        "import matplotlib.pyplot as plt\n",
        "\n",
        "# --- 1. Calculate Accuracy ---\n",
        "accuracy_rf = accuracy_score(y_test, y_pred_rf)\n",
        "print(f\"--- Accuracy of the Random Forest Model ---\")\n",
        "print(f\"Accuracy: {accuracy_rf:.2f}\\n\")\n",
        "\n",
        "\n",
        "# --- 2. Display the Confusion Matrix ---\n",
        "cm_rf = confusion_matrix(y_test, y_pred_rf)\n",
        "\n",
        "print(\"--- Confusion Matrix (Random Forest) ---\")\n",
        "sns.heatmap(cm_rf, annot=True, fmt='d', cmap='Blues', xticklabels=['No Treatment', 'Treatment'], yticklabels=['No Treatment', 'Treatment'])\n",
        "plt.ylabel('Actual')\n",
        "plt.xlabel('Predicted')\n",
        "plt.title('Confusion Matrix - Random Forest')\n",
        "plt.show()\n",
        "\n",
        "\n",
        "# --- 3. Display the Classification Report ---\n",
        "print(\"\\n--- Classification Report (Random Forest) ---\")\n",
        "print(classification_report(y_test, y_pred_rf, target_names=['No Treatment', 'Treatment']))"
      ],
      "metadata": {
        "colab": {
          "base_uri": "https://localhost:8080/",
          "height": 732
        },
        "id": "5TwTOOsGgJew",
        "outputId": "cfd5d7b9-6104-4a5e-b6ae-482bfb31e5df"
      },
      "execution_count": 11,
      "outputs": [
        {
          "output_type": "stream",
          "name": "stdout",
          "text": [
            "--- Accuracy of the Random Forest Model ---\n",
            "Accuracy: 0.73\n",
            "\n",
            "--- Confusion Matrix (Random Forest) ---\n"
          ]
        },
        {
          "output_type": "display_data",
          "data": {
            "text/plain": [
              "<Figure size 640x480 with 2 Axes>"
            ],
            "image/png": "[encoded data removed]"
          },
          "metadata": {}
        },
        {
          "output_type": "stream",
          "name": "stdout",
          "text": [
            "\n",
            "--- Classification Report (Random Forest) ---\n",
            "              precision    recall  f1-score   support\n",
            "\n",
            "No Treatment       0.68      0.74      0.71       113\n",
            "   Treatment       0.77      0.71      0.74       138\n",
            "\n",
            "    accuracy                           0.73       251\n",
            "   macro avg       0.72      0.73      0.72       251\n",
            "weighted avg       0.73      0.73      0.73       251\n",
            "\n"
          ]
        }
      ]
    },
    {
      "cell_type": "code",
      "source": [
        "import pandas as pd\n",
        "import seaborn as sns\n",
        "import matplotlib.pyplot as plt\n",
        "\n",
        "# --- 1. Get Feature Importances from the Random Forest Model ---\n",
        "# The model stores the importance of each feature after being trained.\n",
        "importances = rf_model.feature_importances_\n",
        "\n",
        "# --- 2. Create a DataFrame for Visualization ---\n",
        "# We'll match the importance scores with their corresponding feature names.\n",
        "# X_train.columns contains the names of all our feature columns.\n",
        "feature_importance_df = pd.DataFrame({\n",
        "    'Feature': X_train.columns,\n",
        "    'Importance': importances\n",
        "}).sort_values(by='Importance', ascending=False)\n",
        "\n",
        "\n",
        "# --- 3. Visualize the Top 10 Features ---\n",
        "print(\"--- Top 10 Most Important Features ---\")\n",
        "\n",
        "plt.figure(figsize=(10, 6)) # Adjust figure size for better readability\n",
        "sns.barplot(x='Importance', y='Feature', data=feature_importance_df.head(10), palette='viridis')\n",
        "plt.title('Top 10 Features Influencing Treatment Prediction')\n",
        "plt.xlabel('Importance Score')\n",
        "plt.ylabel('Feature')\n",
        "plt.show()\n",
        "\n",
        "# Display the full list as text\n",
        "print(feature_importance_df)"
      ],
      "metadata": {
        "colab": {
          "base_uri": "https://localhost:8080/",
          "height": 891
        },
        "id": "--o1DepIgS_5",
        "outputId": "ed7a0538-7ca3-4a52-ea70-d16a46b4ead4"
      },
      "execution_count": 12,
      "outputs": [
        {
          "output_type": "stream",
          "name": "stdout",
          "text": [
            "--- Top 10 Most Important Features ---\n"
          ]
        },
        {
          "output_type": "stream",
          "name": "stderr",
          "text": [
            "/tmp/ipython-input-12-3915465255.py:22: FutureWarning: \n",
            "\n",
            "Passing `palette` without assigning `hue` is deprecated and will be removed in v0.14.0. Assign the `y` variable to `hue` and set `legend=False` for the same effect.\n",
            "\n",
            "  sns.barplot(x='Importance', y='Feature', data=feature_importance_df.head(10), palette='viridis')\n"
          ]
        },
        {
          "output_type": "display_data",
          "data": {
            "text/plain": [
              "<Figure size 1000x600 with 1 Axes>"
            ],
            "image/png": "[encoded data removed]"
          },
          "metadata": {}
        },
        {
          "output_type": "stream",
          "name": "stdout",
          "text": [
            "                      Feature  Importance\n",
            "5              work_interfere    0.115304\n",
            "0                         Age    0.103110\n",
            "4              family_history    0.099156\n",
            "10               care_options    0.069861\n",
            "2                     Country    0.059071\n",
            "6                no_employees    0.057516\n",
            "9                    benefits    0.047398\n",
            "14                      leave    0.047085\n",
            "15  mental_health_consequence    0.037457\n",
            "17                  coworkers    0.036617\n",
            "18                 supervisor    0.036574\n",
            "20      phys_health_interview    0.034929\n",
            "21         mental_vs_physical    0.034489\n",
            "12                  seek_help    0.032284\n",
            "13                  anonymity    0.026314\n",
            "11           wellness_program    0.025740\n",
            "1                      Gender    0.025481\n",
            "16    phys_health_consequence    0.024220\n",
            "7                 remote_work    0.021938\n",
            "22            obs_consequence    0.019982\n",
            "19    mental_health_interview    0.017186\n",
            "8                tech_company    0.016178\n",
            "3               self_employed    0.012111\n"
          ]
        }
      ]
    },
    {
      "cell_type": "code",
      "source": [
        "!pip install xgboost"
      ],
      "metadata": {
        "colab": {
          "base_uri": "https://localhost:8080/"
        },
        "id": "JBsJysv8gaI3",
        "outputId": "dc138dd5-5aa2-4e4a-8f9c-b72fbc946297"
      },
      "execution_count": 13,
      "outputs": [
        {
          "output_type": "stream",
          "name": "stdout",
          "text": [
            "Requirement already satisfied: xgboost in /usr/local/lib/python3.11/dist-packages (3.0.2)\n",
            "Requirement already satisfied: numpy in /usr/local/lib/python3.11/dist-packages (from xgboost) (2.0.2)\n",
            "Requirement already satisfied: nvidia-nccl-cu12 in /usr/local/lib/python3.11/dist-packages (from xgboost) (2.21.5)\n",
            "Requirement already satisfied: scipy in /usr/local/lib/python3.11/dist-packages (from xgboost) (1.16.0)\n"
          ]
        }
      ]
    },
    {
      "cell_type": "code",
      "source": [
        "import xgboost as xgb\n",
        "from sklearn.metrics import accuracy_score, classification_report, confusion_matrix\n",
        "import seaborn as sns\n",
        "import matplotlib.pyplot as plt\n",
        "\n",
        "# --- 1. Initialize and Train the XGBoost Model ---\n",
        "# We create an instance of the XGBoost classifier.\n",
        "# `use_label_encoder=False` and `eval_metric='logloss'` are set to use the latest standards.\n",
        "xgb_model = xgb.XGBClassifier(use_label_encoder=False, eval_metric='logloss', random_state=42)\n",
        "\n",
        "# Train the model on the same training data\n",
        "xgb_model.fit(X_train, y_train)\n",
        "\n",
        "# --- 2. Make Predictions ---\n",
        "y_pred_xgb = xgb_model.predict(X_test)\n",
        "\n",
        "# --- 3. Evaluate the Model ---\n",
        "\n",
        "# Calculate Accuracy\n",
        "accuracy_xgb = accuracy_score(y_test, y_pred_xgb)\n",
        "print(f\"--- Accuracy of the XGBoost Model ---\")\n",
        "print(f\"Accuracy: {accuracy_xgb:.2f}\\n\")\n",
        "\n",
        "# Display the Confusion Matrix\n",
        "cm_xgb = confusion_matrix(y_test, y_pred_xgb)\n",
        "print(\"--- Confusion Matrix (XGBoost) ---\")\n",
        "sns.heatmap(cm_xgb, annot=True, fmt='d', cmap='Greens', xticklabels=['No Treatment', 'Treatment'], yticklabels=['No Treatment', 'Treatment'])\n",
        "plt.ylabel('Actual')\n",
        "plt.xlabel('Predicted')\n",
        "plt.title('Confusion Matrix - XGBoost')\n",
        "plt.show()\n",
        "\n",
        "# Display the Classification Report\n",
        "print(\"\\n--- Classification Report (XGBoost) ---\")\n",
        "print(classification_report(y_test, y_pred_xgb, target_names=['No Treatment', 'Treatment']))"
      ],
      "metadata": {
        "colab": {
          "base_uri": "https://localhost:8080/",
          "height": 822
        },
        "id": "UOlF8A2lg2a1",
        "outputId": "e81e951f-ea98-4e25-da8b-a85377bf3c08"
      },
      "execution_count": 14,
      "outputs": [
        {
          "output_type": "stream",
          "name": "stderr",
          "text": [
            "/usr/local/lib/python3.11/dist-packages/xgboost/training.py:183: UserWarning: [15:44:34] WARNING: /workspace/src/learner.cc:738: \n",
            "Parameters: { \"use_label_encoder\" } are not used.\n",
            "\n",
            "  bst.update(dtrain, iteration=i, fobj=obj)\n"
          ]
        },
        {
          "output_type": "stream",
          "name": "stdout",
          "text": [
            "--- Accuracy of the XGBoost Model ---\n",
            "Accuracy: 0.67\n",
            "\n",
            "--- Confusion Matrix (XGBoost) ---\n"
          ]
        },
        {
          "output_type": "display_data",
          "data": {
            "text/plain": [
              "<Figure size 640x480 with 2 Axes>"
            ],
            "image/png": "[encoded data removed]"
          },
          "metadata": {}
        },
        {
          "output_type": "stream",
          "name": "stdout",
          "text": [
            "\n",
            "--- Classification Report (XGBoost) ---\n",
            "              precision    recall  f1-score   support\n",
            "\n",
            "No Treatment       0.62      0.66      0.64       113\n",
            "   Treatment       0.71      0.67      0.69       138\n",
            "\n",
            "    accuracy                           0.67       251\n",
            "   macro avg       0.66      0.67      0.66       251\n",
            "weighted avg       0.67      0.67      0.67       251\n",
            "\n"
          ]
        }
      ]
    },
    {
      "cell_type": "code",
      "source": [
        "from sklearn.model_selection import GridSearchCV\n",
        "import xgboost as xgb\n",
        "\n",
        "# --- 1. Define the Parameter Grid ---\n",
        "# These are the XGBoost settings we want to test.\n",
        "param_grid = {\n",
        "    'max_depth': [3, 4, 5],            # The maximum depth of a tree.\n",
        "    'learning_rate': [0.1, 0.01, 0.05], # The step size shrinkage.\n",
        "    'n_estimators': [100, 200, 300],    # The number of boosting rounds.\n",
        "    'subsample': [0.8, 1.0]             # The fraction of observations to be randomly sampled for each tree.\n",
        "}\n",
        "\n",
        "# --- 2. Set up GridSearchCV ---\n",
        "# We tell it which model to tune (XGBoost) and which parameters to test (param_grid).\n",
        "# cv=5 means 5-fold cross-validation.\n",
        "# n_jobs=-1 uses all available CPU cores to speed up the process.\n",
        "grid_search = GridSearchCV(\n",
        "    estimator=xgb.XGBClassifier(use_label_encoder=False, eval_metric='logloss', random_state=42),\n",
        "    param_grid=param_grid,\n",
        "    scoring='accuracy',\n",
        "    n_jobs=-1,\n",
        "    cv=5,\n",
        "    verbose=1 # This will print progress updates\n",
        ")\n",
        "\n",
        "# --- 3. Run the Search ---\n",
        "# This is the step that will take some time.\n",
        "print(\"--- Starting Hyperparameter Tuning with GridSearchCV ---\")\n",
        "grid_search.fit(X_train, y_train)\n",
        "print(\"--- Tuning Complete ---\")\n",
        "\n",
        "# --- 4. Get the Best Model and Evaluate It ---\n",
        "print(f\"\\nBest Parameters Found: {grid_search.best_params_}\")\n",
        "\n",
        "# Get the best model found by the grid search\n",
        "best_xgb_model = grid_search.best_estimator_\n",
        "\n",
        "# Make predictions with the new best model\n",
        "y_pred_best_xgb = best_xgb_model.predict(X_test)\n",
        "\n",
        "# Calculate the new accuracy\n",
        "accuracy_best_xgb = accuracy_score(y_test, y_pred_best_xgb)\n",
        "\n",
        "print(f\"\\n--- Accuracy of the Tuned XGBoost Model ---\")\n",
        "print(f\"Accuracy: {accuracy_best_xgb:.2f}\")"
      ],
      "metadata": {
        "colab": {
          "base_uri": "https://localhost:8080/"
        },
        "id": "FW77uRbYjqU-",
        "outputId": "55592931-4471-4504-9579-959bd08dbccd"
      },
      "execution_count": 15,
      "outputs": [
        {
          "output_type": "stream",
          "name": "stdout",
          "text": [
            "--- Starting Hyperparameter Tuning with GridSearchCV ---\n",
            "Fitting 5 folds for each of 54 candidates, totalling 270 fits\n",
            "--- Tuning Complete ---\n",
            "\n",
            "Best Parameters Found: {'learning_rate': 0.01, 'max_depth': 4, 'n_estimators': 300, 'subsample': 0.8}\n",
            "\n",
            "--- Accuracy of the Tuned XGBoost Model ---\n",
            "Accuracy: 0.72\n"
          ]
        },
        {
          "output_type": "stream",
          "name": "stderr",
          "text": [
            "/usr/local/lib/python3.11/dist-packages/xgboost/training.py:183: UserWarning: [15:50:36] WARNING: /workspace/src/learner.cc:738: \n",
            "Parameters: { \"use_label_encoder\" } are not used.\n",
            "\n",
            "  bst.update(dtrain, iteration=i, fobj=obj)\n"
          ]
        }
      ]
    },
    {
      "cell_type": "code",
      "source": [
        "import pandas as pd\n",
        "from sklearn.model_selection import train_test_split\n",
        "from sklearn.preprocessing import LabelEncoder\n",
        "from sklearn.metrics import accuracy_score\n",
        "import xgboost as xgb\n",
        "\n",
        "# --- 1. Reload the Cleaned DataFrame ---\n",
        "# We'll use df_cleaned before it was numerically encoded to create our new features.\n",
        "# Make sure you have the 'df_cleaned' DataFrame available from Step 5.\n",
        "# For simplicity, let's just recreate it quickly.\n",
        "\n",
        "# Load original data\n",
        "df = pd.read_csv('survey.csv')\n",
        "# Drop irrelevant columns\n",
        "df_cleaned = df.drop(columns=['Timestamp', 'comments', 'state'])\n",
        "# Clean Age\n",
        "df_cleaned = df_cleaned[(df_cleaned['Age'] >= 18) & (df_cleaned['Age'] <= 75)]\n",
        "# Clean Gender\n",
        "male_str = [\"male\", \"m\", \"male-ish\", \"maile\", \"mal\", \"male (cis)\", \"make\", \"male \", \"man\", \"msle\", \"mail\", \"malr\", \"cis man\", \"cis male\"]\n",
        "female_str = [\"female\", \"f\", \"woman\", \"femake\", \"female \", \"cis-female/femme\", \"female (cis)\", \"femail\"]\n",
        "df_cleaned['Gender'] = df_cleaned['Gender'].str.lower()\n",
        "df_cleaned['Gender'] = df_cleaned['Gender'].apply(lambda x: 'Male' if x in male_str else ('Female' if x in female_str else 'Other'))\n",
        "# Fill missing values\n",
        "df_cleaned['self_employed'].fillna('No', inplace=True)\n",
        "df_cleaned['work_interfere'].fillna('Sometimes', inplace=True)\n",
        "\n",
        "\n",
        "# --- 2. Feature Engineering ---\n",
        "\n",
        "# Create 'support_score'\n",
        "# We check if the answer is 'Yes' for these supportive features.\n",
        "df_cleaned['support_score'] = (\n",
        "    (df_cleaned['benefits'] == 'Yes').astype(int) +\n",
        "    (df_cleaned['care_options'] == 'Yes').astype(int) +\n",
        "    (df_cleaned['wellness_program'] == 'Yes').astype(int) +\n",
        "    (df_cleaned['seek_help'] == 'Yes').astype(int)\n",
        ")\n",
        "\n",
        "# Create 'age_group'\n",
        "# We define the age bins and labels\n",
        "bins = [17, 25, 35, 45, 75]\n",
        "labels = ['18-25', '26-35', '36-45', '46-75']\n",
        "df_cleaned['age_group'] = pd.cut(df_cleaned['Age'], bins=bins, labels=labels, right=True)\n",
        "\n",
        "# Now we drop the original 'Age' column since we have 'age_group'\n",
        "df_cleaned.drop(columns=['Age'], inplace=True)\n",
        "\n",
        "\n",
        "# --- 3. Re-run Preprocessing and Splitting ---\n",
        "\n",
        "# Label Encode all object columns again, including our new 'age_group'\n",
        "for column in df_cleaned.columns:\n",
        "    if df_cleaned[column].dtype == 'object' or df_cleaned[column].dtype.name == 'category':\n",
        "        le = LabelEncoder()\n",
        "        df_cleaned[column] = le.fit_transform(df_cleaned[column])\n",
        "\n",
        "# Define new features (X) and target (y)\n",
        "X_new = df_cleaned.drop('treatment', axis=1)\n",
        "y_new = df_cleaned['treatment']\n",
        "\n",
        "# Split the data again\n",
        "X_train_new, X_test_new, y_train_new, y_test_new = train_test_split(X_new, y_new, test_size=0.2, random_state=42)\n",
        "\n",
        "# --- 4. Retrain the Best Model on New Features ---\n",
        "\n",
        "# We'll use the best model we found from GridSearchCV\n",
        "# The parameters were: {'learning_rate': 0.01, 'max_depth': 4, 'n_estimators': 300, 'subsample': 0.8}\n",
        "final_model = xgb.XGBClassifier(\n",
        "    learning_rate=0.01,\n",
        "    max_depth=4,\n",
        "    n_estimators=300,\n",
        "    subsample=0.8,\n",
        "    use_label_encoder=False,\n",
        "    eval_metric='logloss',\n",
        "    random_state=42\n",
        ")\n",
        "\n",
        "print(\"--- Training final model on new engineered features... ---\")\n",
        "final_model.fit(X_train_new, y_train_new)\n",
        "\n",
        "# --- 5. Evaluate the Final Model ---\n",
        "y_pred_final = final_model.predict(X_test_new)\n",
        "accuracy_final = accuracy_score(y_test_new, y_pred_final)\n",
        "\n",
        "print(f\"\\n--- Accuracy with Feature Engineering ---\")\n",
        "print(f\"Final Model Accuracy: {accuracy_final:.2f}\")"
      ],
      "metadata": {
        "colab": {
          "base_uri": "https://localhost:8080/"
        },
        "id": "vvtLoe1Vk8V_",
        "outputId": "294bd65e-0bc7-4767-e12b-02d6ce6bef75"
      },
      "execution_count": 16,
      "outputs": [
        {
          "output_type": "stream",
          "name": "stdout",
          "text": [
            "--- Training final model on new engineered features... ---\n",
            "\n",
            "--- Accuracy with Feature Engineering ---\n",
            "Final Model Accuracy: 0.73\n"
          ]
        },
        {
          "output_type": "stream",
          "name": "stderr",
          "text": [
            "/tmp/ipython-input-16-2277272027.py:24: FutureWarning: A value is trying to be set on a copy of a DataFrame or Series through chained assignment using an inplace method.\n",
            "The behavior will change in pandas 3.0. This inplace method will never work because the intermediate object on which we are setting values always behaves as a copy.\n",
            "\n",
            "For example, when doing 'df[col].method(value, inplace=True)', try using 'df.method({col: value}, inplace=True)' or df[col] = df[col].method(value) instead, to perform the operation inplace on the original object.\n",
            "\n",
            "\n",
            "  df_cleaned['self_employed'].fillna('No', inplace=True)\n",
            "/tmp/ipython-input-16-2277272027.py:25: FutureWarning: A value is trying to be set on a copy of a DataFrame or Series through chained assignment using an inplace method.\n",
            "The behavior will change in pandas 3.0. This inplace method will never work because the intermediate object on which we are setting values always behaves as a copy.\n",
            "\n",
            "For example, when doing 'df[col].method(value, inplace=True)', try using 'df.method({col: value}, inplace=True)' or df[col] = df[col].method(value) instead, to perform the operation inplace on the original object.\n",
            "\n",
            "\n",
            "  df_cleaned['work_interfere'].fillna('Sometimes', inplace=True)\n",
            "/usr/local/lib/python3.11/dist-packages/xgboost/training.py:183: UserWarning: [15:57:37] WARNING: /workspace/src/learner.cc:738: \n",
            "Parameters: { \"use_label_encoder\" } are not used.\n",
            "\n",
            "  bst.update(dtrain, iteration=i, fobj=obj)\n"
          ]
        }
      ]
    },
    {
      "cell_type": "code",
      "source": [
        "import joblib\n",
        "\n",
        "# --- 1. Save the Final Trained Model ---\n",
        "# This is the tuned XGBoost model trained on your engineered features.\n",
        "joblib.dump(final_model, 'final_xgb_model.joblib')\n",
        "\n",
        "# --- 2. Save the Columns List ---\n",
        "# The model needs to know the exact order and names of the input columns.\n",
        "# X_new is the DataFrame we used to train the final_model\n",
        "model_columns = X_new.columns\n",
        "joblib.dump(model_columns, 'model_columns.joblib')\n",
        "\n",
        "print(\"--- Model and columns saved! ---\")\n",
        "print(\"Please download 'final_xgb_model.joblib' and 'model_columns.joblib' from the Colab file explorer.\")"
      ],
      "metadata": {
        "colab": {
          "base_uri": "https://localhost:8080/"
        },
        "id": "yIsFaod1mphw",
        "outputId": "bebe74c5-cafa-4f1b-8552-758f7e132425"
      },
      "execution_count": 17,
      "outputs": [
        {
          "output_type": "stream",
          "name": "stdout",
          "text": [
            "--- Model and columns saved! ---\n",
            "Please download 'final_xgb_model.joblib' and 'model_columns.joblib' from the Colab file explorer.\n"
          ]
        }
      ]
    },
    {
      "cell_type": "code",
      "source": [],
      "metadata": {
        "id": "E3gevdhJnWuw"
      },
      "execution_count": null,
      "outputs": []
    }
  ]
}